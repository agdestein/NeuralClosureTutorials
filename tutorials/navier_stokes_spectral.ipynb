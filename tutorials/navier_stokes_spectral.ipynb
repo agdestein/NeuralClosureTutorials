{
 "cells": [
  {
   "cell_type": "markdown",
   "source": [
    "# Neural closure models for the incompressible Navier-Stokes equations"
   ],
   "metadata": {}
  },
  {
   "cell_type": "markdown",
   "source": [
    "## Running on Google Colab\n",
    "\n",
    "It seems you can get a certain number of GPU minutes for free if you have not done\n",
    "so previously. In that case, **now** is the moment to select `Select Runtime -> T4 GPU` in\n",
    "the top right corner (keep the Python runtime for now). This notebook also runs fine on\n",
    "the CPU if you leave it be.\n",
    "\n",
    "Once the right hardware is chosen, we install Julia using the official version\n",
    "manager Juliup.\n",
    "\n",
    "From the Python kernel, we can access the shell by starting a line with `!`."
   ],
   "metadata": {}
  },
  {
   "outputs": [],
   "cell_type": "code",
   "source": [
    "!curl -fsSL https://install.julialang.org | sh -s -- --yes"
   ],
   "metadata": {},
   "execution_count": null
  },
  {
   "cell_type": "markdown",
   "source": [
    "We can check that Julia is successfully installed on the Colab instance."
   ],
   "metadata": {}
  },
  {
   "outputs": [],
   "cell_type": "code",
   "source": [
    "!/root/.juliaup/bin/julia -e 'println(\"Hello\")'"
   ],
   "metadata": {},
   "execution_count": null
  },
  {
   "cell_type": "markdown",
   "source": [
    "We now proceed to install the necessary Julia packages, including `IJulia` which\n",
    "will add the Julia notebook kernel."
   ],
   "metadata": {}
  },
  {
   "outputs": [],
   "cell_type": "code",
   "source": [
    "%%shell\n",
    "/root/.juliaup/bin/julia -e '''\n",
    "    using Pkg\n",
    "    Pkg.add([\n",
    "        \"ComponentArrays\",\n",
    "        \"CUDA\",\n",
    "        \"FFTW\",\n",
    "        \"IJulia\",\n",
    "        \"LinearAlgebra\",\n",
    "        \"Lux\",\n",
    "        \"LuxCUDA\",\n",
    "        \"NNlib\",\n",
    "        \"Optimisers\",\n",
    "        \"Plots\",\n",
    "        \"Printf\",\n",
    "        \"Random\",\n",
    "        \"Zygote\",\n",
    "    ])\n",
    "'''"
   ],
   "metadata": {},
   "execution_count": null
  },
  {
   "cell_type": "markdown",
   "source": [
    "Once this is done, reload the browser page. In the top right corner, then select the Julia kernel."
   ],
   "metadata": {}
  },
  {
   "cell_type": "markdown",
   "source": [
    "## The incompressible Navier-Stokes equations\n",
    "\n",
    "The incompressible Navier-Stokes equations in a periodic box $\\Omega = [0,\n",
    "1]^2$ are comprised of the mass equation\n",
    "\n",
    "$$\n",
    "\\nabla \\cdot u = 0\n",
    "$$\n",
    "\n",
    "and the momentum equation\n",
    "\n",
    "$$\n",
    "\\frac{\\partial u}{\\partial t} = - \\nabla p - \\nabla \\cdot (u u^\\mathsf{T}) +\n",
    "\\nu \\nabla^2 u + f,\n",
    "$$\n",
    "\n",
    "where $p$ is the pressure, $u = (u_x, u_y)$ is the velocity, and $f = (f_x,\n",
    "f_y)$ is the body force.\n",
    "\n",
    "We can represent the solution in spectral space as follows:\n",
    "\n",
    "$$\n",
    "u(x, t) = \\sum_{k \\in \\mathbb{Z}^2} \\hat{u}(k, t) \\mathrm{e}^{2 \\pi\n",
    "\\mathrm{i} k^\\mathsf{T} x}.\n",
    "$$\n",
    "\n",
    "Instead of the continuous solution $u$, we now have a countable number of\n",
    "coefficients $\\hat{u}$.\n",
    "\n",
    "The mass equation then takes the form\n",
    "\n",
    "$$\n",
    "2 \\pi \\mathrm{i} k^\\mathsf{T} \\hat{u} = 0\n",
    "$$\n",
    "\n",
    "and similarly for the momentum equations:\n",
    "\n",
    "$$\n",
    "\\begin{split}\n",
    "\\frac{\\partial \\hat{u}}{\\partial t} & = - 2 \\pi \\mathrm{i} k \\hat{p} - 2 \\pi \\mathrm{i} \\widehat{u u^\\mathsf{T}} k - 4 \\pi^2 \\nu \\| k \\|^2 \\hat{u} + \\hat{f} \\\\\n",
    "& = - 2 \\pi \\mathrm{i} k \\hat{p} + \\hat{F}(\\hat{u}),\n",
    "\\end{split}\n",
    "$$\n",
    "\n",
    "where $k = (k_x, k_y)$ is the wavenumber, $\\hat{p}$ is the Fourier\n",
    "coefficients of $p$, and similarly for $\\hat{u} = (\\hat{u}_x, \\hat{u}_y)$ and\n",
    "$\\hat{f} = (\\hat{f}_x, \\hat{f}_y)$. These equations are obtained by replacing\n",
    "$\\nabla$ with $2 \\pi \\mathrm{i} k$. We will also name the nonlinear\n",
    "(quadratic) term $Q = - 2 \\pi \\mathrm{i} \\widehat{u u^\\mathsf{T}} k$. Note\n",
    "that the non-linear term $u u^\\mathsf{T}$ is still computed in physical\n",
    "space, as computing it in spectral space would require evaluating a\n",
    "convolution integral instead of a point-wise product. Note also that since\n",
    "the domain $\\Omega$ is compact, the modes are countable, meaning that $k \\in\n",
    "\\mathbb{Z}^2$, paving the way for discretization by truncation.\n",
    "\n",
    "Taking the time derivative of the mass equation gives a spectral Poisson\n",
    "equation for the pressure:\n",
    "\n",
    "$$\n",
    "- 4 \\pi^2 \\| k \\|^2 \\hat{p} = 2 \\pi i k^\\mathsf{T} \\hat{F}(\\hat{u})\n",
    "= - 4 \\pi^2 k^\\mathsf{T} \\widehat{u u^\\mathsf{T}} k + 2 \\pi \\mathrm{i} k^\\mathsf{T} \\hat{f}.\n",
    "$$\n",
    "\n",
    "The pressure solution is however not defined for $k = 0$, as the pressure is only\n",
    "determined up to a constant in the case of a periodic domain.\n",
    "By setting $\\hat{p}(k = 0) = 0$, we fix this\n",
    "constant at zero.\n",
    "\n",
    "In the following, we will make use of a pressure-free equation (for $k \\neq 0$):\n",
    "\n",
    "$$\n",
    "\\frac{\\partial \\hat{u}}{\\partial t} = \\left(1 - \\frac{k\n",
    "k^\\mathsf{T}}{\\| k \\|^2} \\right) \\hat{F}(\\hat{u}) = P \\hat{F}(\\hat{u}),\n",
    "$$\n",
    "\n",
    "where the pressure gradient is replaced by the mode-wise projection\n",
    "operator $P(k) \\in \\mathbb{C}^{2 \\times 2}$. Note\n",
    "that we set $P(k = 0) = I$, thus preserving averages.\n",
    "\n",
    "## Spatial discretization\n",
    "\n",
    "A natural way to discretize the pseudo-spectral Navier-Stokes equations is to\n",
    "truncate at a maximum frequency $K$. However, the non-linear term may create\n",
    "wave-numbers up to $2 K$ when the input $u$ has wavenumbers up to $K$.\n",
    "These additional wavenumbers are aliased with the lower resolved ones. We\n",
    "will therefore compute the non-linear term from the $2 / 3$ lowest\n",
    "wave-numbers of $u$ only (a common heuristic [^1]).\n",
    "\n",
    "The spatial solution $u(x, y, t)$ will be represented on a uniform grid\n",
    "$x = y = (i / n)_{i = 1}^N$, where $N = 2 K$. Using the convention of the fast Fourier\n",
    "transform (FFT) [^2], we index the spectral fields by a vector of wavenumbers\n",
    "$$\n",
    "k_x = k_y = (0, \\underbrace{1, 2, \\dots, K - 1}_{\\text{Positive wavenumbers}}, \\underbrace{-K, -(K - 1), \\dots, 1}_{\\text{Negative wavenumbers}}) \\in \\mathbb{Z}^N.\n",
    "$$"
   ],
   "metadata": {}
  },
  {
   "outputs": [],
   "cell_type": "code",
   "source": [
    "using ComponentArrays\n",
    "using CUDA\n",
    "using FFTW\n",
    "using LinearAlgebra\n",
    "using Lux\n",
    "using LuxCUDA\n",
    "using NNlib\n",
    "using Optimisers\n",
    "using Plots\n",
    "using Printf\n",
    "using Random\n",
    "using Zygote"
   ],
   "metadata": {},
   "execution_count": null
  },
  {
   "cell_type": "markdown",
   "source": [
    "Lux likes to toss random number generators around, for reproducible science"
   ],
   "metadata": {}
  },
  {
   "outputs": [],
   "cell_type": "code",
   "source": [
    "rng = Random.default_rng()"
   ],
   "metadata": {},
   "execution_count": null
  },
  {
   "cell_type": "markdown",
   "source": [
    "We define some useful functions, starting with `zeros`."
   ],
   "metadata": {}
  },
  {
   "outputs": [],
   "cell_type": "code",
   "source": [
    "z = CUDA.functional() ? CUDA.zeros : (s...) -> zeros(Float32, s...)\n",
    "ArrayType = CUDA.functional() ? CuArray : Array"
   ],
   "metadata": {},
   "execution_count": null
  },
  {
   "cell_type": "markdown",
   "source": [
    "This line makes sure that we don't do accidental CPU stuff while things\n",
    "should be on the GPU"
   ],
   "metadata": {}
  },
  {
   "outputs": [],
   "cell_type": "code",
   "source": [
    "CUDA.allowscalar(false)"
   ],
   "metadata": {},
   "execution_count": null
  },
  {
   "cell_type": "markdown",
   "source": [
    "Since most of the manipulations take place in spectral space, we drop the\n",
    "hats, e.g. `u` is $\\hat{u}$. Also, `u` will have the shape `(N, N, 2)`.\n",
    "\n",
    "The function `Q` computes the quadratic term.\n",
    "The `K - Kf` highest frequencies of `u` are cut-off to prevent aliasing."
   ],
   "metadata": {}
  },
  {
   "outputs": [],
   "cell_type": "code",
   "source": [
    "function Q(u, params)\n",
    "    (; K, Kf, k) = params\n",
    "    n = size(u, 1)\n",
    "    Kz = K - Kf\n",
    "\n",
    "    # Remove aliasing components\n",
    "    uf = [\n",
    "        u[1:Kf, 1:Kf, :] z(Kf, 2Kz, 2) u[1:Kf, end-Kf+1:end, :]\n",
    "        z(2Kz, Kf, 2) z(2Kz, 2Kz, 2) z(2Kz, Kf, 2)\n",
    "        u[end-Kf+1:end, 1:Kf, :] z(Kf, 2Kz, 2) u[end-Kf+1:end, end-Kf+1:end, :]\n",
    "    ]\n",
    "\n",
    "    # Spatial velocity\n",
    "    v = real.(ifft(uf, (1, 2)))\n",
    "    vx, vy = eachslice(v; dims = 3)\n",
    "\n",
    "    # Quadractic terms in space\n",
    "    vxx = vx .* vx\n",
    "    vxy = vx .* vy\n",
    "    vyy = vy .* vy\n",
    "    v2 = cat(vxx, vxy, vxy, vyy; dims = 3)\n",
    "    v2 = reshape(v2, n, n, 2, 2)\n",
    "\n",
    "    # Quadractic terms in spectral space\n",
    "    q = fft(v2, (1, 2))\n",
    "    qx, qy = eachslice(q; dims = 4)\n",
    "\n",
    "    # Compute partial derivatives in spectral space\n",
    "    ∂x = 2f0π * im * k\n",
    "    ∂y = 2f0π * im * reshape(k, 1, :)\n",
    "    q = @. -∂x * qx - ∂y * qy\n",
    "\n",
    "    # Zero out high wave-numbers (is this necessary?)\n",
    "    q = [\n",
    "        q[1:Kf, 1:Kf, :] z(Kf, 2Kz, 2) q[1:Kf, Kf+2Kz+1:end, :]\n",
    "        z(2Kz, Kf, 2) z(2Kz, 2Kz, 2) z(2Kz, Kf, 2)\n",
    "        q[Kf+2Kz+1:end, 1:Kf, :] z(Kf, 2Kz, 2) q[Kf+2Kz+1:end, Kf+2Kz+1:end, :]\n",
    "    ]\n",
    "\n",
    "    q\n",
    "end"
   ],
   "metadata": {},
   "execution_count": null
  },
  {
   "cell_type": "markdown",
   "source": [
    "`F` computes the unprojected momentum right hand side $\\hat{F}$. It also\n",
    "includes the closure term (if any)."
   ],
   "metadata": {}
  },
  {
   "outputs": [],
   "cell_type": "code",
   "source": [
    "function F(u, params)\n",
    "    (; normk, nu, f, m, θ) = params\n",
    "    q = Q(u, params)\n",
    "    du = @. q - nu * (2f0π)^2 * normk * u + f\n",
    "    isnothing(m) || (du += m(u, θ))\n",
    "    du\n",
    "end"
   ],
   "metadata": {},
   "execution_count": null
  },
  {
   "cell_type": "markdown",
   "source": [
    "The projector $P$ uses pre-assembled matrices."
   ],
   "metadata": {}
  },
  {
   "outputs": [],
   "cell_type": "code",
   "source": [
    "function project(u, params)\n",
    "    (; Pxx, Pxy, Pyy) = params\n",
    "    ux, uy = eachslice(u; dims = 3)\n",
    "    dux = @. Pxx * ux + Pxy * uy\n",
    "    duy = @. Pxy * ux + Pyy * uy\n",
    "    cat(dux, duy; dims = 3)\n",
    "end"
   ],
   "metadata": {},
   "execution_count": null
  },
  {
   "cell_type": "markdown",
   "source": [
    "## Time discretization\n",
    "\n",
    "For time stepping, we do a simple fourth order explicit Runge-Kutta scheme.\n",
    "\n",
    "From a current state $\\hat{u}^0 = \\hat{u}(t)$, we divide the outer time step\n",
    "$\\Delta t$ into $s = 4$ sub-steps as follows:\n",
    "\n",
    "$$\n",
    "\\begin{split}\n",
    "\\hat{F}^i & = P \\hat{F}(\\hat{u}^{i - 1}) \\\\\n",
    "\\hat{u}^i & = u^0 + \\Delta t \\sum_{j = 1}^{i} a_{i j} F^j.\n",
    "\\end{split}\n",
    "$$\n",
    "\n",
    "The solution at the next outer time step $t + \\Delta t$ is then\n",
    "$\\hat{u}^s = \\hat{u}(t + \\Delta t) + \\mathcal{O}(\\Delta t^5)$. The coefficients\n",
    "of the RK method are chosen as\n",
    "\n",
    "$$\n",
    "a = \\begin{pmatrix}\n",
    "    \\frac{1}{2} & 0           & 0           & 0 \\\\\n",
    "    0           & \\frac{1}{2} & 0           & 0 \\\\\n",
    "    0           & 0           & 1           & 0 \\\\\n",
    "    \\frac{1}{6} & \\frac{2}{6} & \\frac{2}{6} & \\frac{1}{6}\n",
    "\\end{pmatrix}.\n",
    "$$\n",
    "\n",
    "Note that each of the intermediate steps is divergence free.\n",
    "\n",
    "The following function performs one RK4 time step. Note that we never\n",
    "modify any vectors, only create new ones. The AD-framework Zygote prefers\n",
    "it this way."
   ],
   "metadata": {}
  },
  {
   "outputs": [],
   "cell_type": "code",
   "source": [
    "function step_rk4(u0, params, dt)\n",
    "    a = (\n",
    "        (0.5f0,),\n",
    "        (0.0f0, 0.5f0),\n",
    "        (0.0f0, 0.0f0, 1.0f0),\n",
    "        (1.0f0 / 6.0f0, 2.0f0 / 6.0f0, 2.0f0 / 6.0f0, 1.0f0 / 6.0f0),\n",
    "    )\n",
    "    u = u0\n",
    "    k = ()\n",
    "    for i = 1:length(a)\n",
    "        ki = project(F(u, params), params)\n",
    "        k = (k..., ki)\n",
    "        u = u0\n",
    "        for j = 1:i\n",
    "            u += dt * a[i][j] * k[j]\n",
    "        end\n",
    "    end\n",
    "    u\n",
    "end"
   ],
   "metadata": {},
   "execution_count": null
  },
  {
   "cell_type": "markdown",
   "source": [
    "For plotting, the spatial vorticity can be useful. It is given by\n",
    "\n",
    "$$\n",
    "\\omega = -\\frac{\\partial u_x}{\\partial y} + \\frac{\\partial u_y}{\\partial x},\n",
    "$$\n",
    "\n",
    "which becomes\n",
    "\n",
    "$$\n",
    "\\hat{\\omega} = 2 \\pi \\mathrm{i} k \\times u = - 2 \\pi \\mathrm{i} k_y u_x + 2 \\pi \\mathrm{i} k_x u_y\n",
    "$$\n",
    "\n",
    "in spectral space."
   ],
   "metadata": {}
  },
  {
   "outputs": [],
   "cell_type": "code",
   "source": [
    "function vorticity(u, params)\n",
    "    (; k) = params\n",
    "    ∂x = 2f0π * im * k\n",
    "    ∂y = 2f0π * im * reshape(k, 1, :)\n",
    "    ux, uy = eachslice(u; dims = 3)\n",
    "    ω = @. -∂y * ux + ∂x * uy\n",
    "    real.(ifft(ω))\n",
    "end"
   ],
   "metadata": {},
   "execution_count": null
  },
  {
   "cell_type": "markdown",
   "source": [
    "This function creates a random Gaussian force field."
   ],
   "metadata": {}
  },
  {
   "outputs": [],
   "cell_type": "code",
   "source": [
    "function gaussian(x; σ = 0.1f0)\n",
    "    n = length(x)\n",
    "    xf, yf = rand(), rand()\n",
    "    f = [\n",
    "        exp(-(x - xf + a)^2 / σ^2 - (y - yf + a)^2 / σ^2) for x ∈ x, y in x,\n",
    "        a in (-1, 0, 1), b in (-1, 0, 1)\n",
    "    ] ## periodic padding\n",
    "    f = reshape(sum(f; dims = (3, 4)), n, n)\n",
    "    f = exp(im * rand() * 2.0f0π) * f ## Rotate f\n",
    "    cat(real(f), imag(f); dims = 3)\n",
    "end"
   ],
   "metadata": {},
   "execution_count": null
  },
  {
   "cell_type": "markdown",
   "source": [
    "For the initial conditions, we create a random spectrum with some decay.\n",
    "Note that the initial conditions are projected onto the divergence free\n",
    "space at the end."
   ],
   "metadata": {}
  },
  {
   "outputs": [],
   "cell_type": "code",
   "source": [
    "function create_spectrum(params; A, σ, s)\n",
    "    (; x, k, K) = params\n",
    "    T = eltype(x)\n",
    "    kx = k\n",
    "    ky = reshape(k, 1, :)\n",
    "    τ = 2.0f0π\n",
    "    a = @. A / sqrt(τ^2 * 2σ^2) *\n",
    "       exp(-(kx - s)^2 / 2σ^2 - (ky - s)^2 / 2σ^2 - im * τ * rand(T))\n",
    "    a\n",
    "end\n",
    "\n",
    "function random_field(params; A = 1.0f6, σ = 30.0f0, s = 5.0f0)\n",
    "    ux = create_spectrum(params; A, σ, s)\n",
    "    uy = create_spectrum(params; A, σ, s)\n",
    "    u = cat(ux, uy; dims = 3)\n",
    "    u = real.(ifft(u, (1, 2)))\n",
    "    u = fft(u, (1, 2))\n",
    "    project(u, params)\n",
    "end"
   ],
   "metadata": {},
   "execution_count": null
  },
  {
   "cell_type": "markdown",
   "source": [
    "Body force"
   ],
   "metadata": {}
  },
  {
   "outputs": [],
   "cell_type": "code",
   "source": [
    "# f = 10 * (10 * gaussian(x) + 15 * gaussian(x) + 3 * gaussian(x))\n",
    "# heatmap(selectdim(f, 3, 1))\n",
    "# heatmap(selectdim(f, 3, 2))\n",
    "# f = fft(f, (1, 2))\n",
    "# heatmap(abs.(selectdim(f, 3, 1)))\n",
    "# heatmap(abs.(selectdim(f, 3, 2)))\n",
    "\n",
    "# y = x'\n",
    "# fx = @. 100.0f0 * sin(8.0f0π * y) + 0 * x\n",
    "# fy = @. 2 * x * y * sin(16.0f0π * y)\n",
    "# f = cat(fx, fy; dims = 3)\n",
    "# f = fft(f, (1, 2))\n",
    "#\n",
    "# heatmap(fx)\n",
    "# heatmap(fy)"
   ],
   "metadata": {},
   "execution_count": null
  },
  {
   "cell_type": "markdown",
   "source": [
    "Store parameters and precomputed operators in a named tuple to toss around.\n",
    "Having this in a function gets useful when we later work with multiple\n",
    "resolutions."
   ],
   "metadata": {}
  },
  {
   "outputs": [],
   "cell_type": "code",
   "source": [
    "function create_params(\n",
    "    K;\n",
    "    nu,\n",
    "    f = z(2K, 2K),\n",
    "    m = nothing,\n",
    "    θ = nothing,\n",
    "    anti_alias_factor = 2 / 3,\n",
    ")\n",
    "    Kf = round(Int, anti_alias_factor * K)\n",
    "    N = 2K\n",
    "    x = LinRange(0.0f0, 1.0f0, N + 1)[2:end]\n",
    "\n",
    "    # Vector of wavenumbers\n",
    "\n",
    "    k = ArrayType(fftfreq(N, Float32(N)))\n",
    "    normk = k .^ 2 .+ k' .^ 2\n",
    "\n",
    "    # Projection components\n",
    "    kx = k\n",
    "    ky = reshape(k, 1, :)\n",
    "    Pxx = @. 1 - kx * kx / (kx^2 + ky^2)\n",
    "    Pxy = @. 0 - kx * ky / (kx^2 + ky^2)\n",
    "    Pyy = @. 1 - ky * ky / (kx^2 + ky^2)\n",
    "\n",
    "    # The zeroth component is currently `0/0 = NaN`. For `CuArray`s,\n",
    "    # we need to explicitly allow scalar indexing.\n",
    "\n",
    "    CUDA.@allowscalar Pxx[1, 1] = 1\n",
    "    CUDA.@allowscalar Pxy[1, 1] = 0\n",
    "    CUDA.@allowscalar Pyy[1, 1] = 1\n",
    "\n",
    "    # Closure model\n",
    "    m = nothing\n",
    "    θ = nothing\n",
    "\n",
    "    (; x, N, K, Kf, k, nu, normk, f, Pxx, Pxy, Pyy, m, θ)\n",
    "end"
   ],
   "metadata": {},
   "execution_count": null
  },
  {
   "cell_type": "markdown",
   "source": [
    "## Example simulation\n",
    "\n",
    "Let's test our method in action."
   ],
   "metadata": {}
  },
  {
   "outputs": [],
   "cell_type": "code",
   "source": [
    "params = create_params(64; nu = 0.001f0)\n",
    "\n",
    "# Initial conditions\n",
    "u = random_field(params)"
   ],
   "metadata": {},
   "execution_count": null
  },
  {
   "cell_type": "markdown",
   "source": [
    "We can also check that `u` is indeed divergence free"
   ],
   "metadata": {}
  },
  {
   "outputs": [],
   "cell_type": "code",
   "source": [
    "maximum(abs, params.k .* u[:, :, 1] .+ params.k' .* u[:, :, 2])"
   ],
   "metadata": {},
   "execution_count": null
  },
  {
   "cell_type": "markdown",
   "source": [
    "Let's do some time stepping."
   ],
   "metadata": {}
  },
  {
   "outputs": [],
   "cell_type": "code",
   "source": [
    "t = 0.0f0\n",
    "dt = 1.0f-3\n",
    "\n",
    "@gif for i = 1:1000\n",
    "    global u, t\n",
    "    t += dt\n",
    "    u = step_rk4(u, params, dt)\n",
    "    if i % 10 == 0\n",
    "        ω = Array(vorticity(u, params))\n",
    "        title = @sprintf(\"Vorticity, t = %.3f\", t)\n",
    "        fig = heatmap(ω'; xlabel = \"x\", ylabel = \"y\", title)\n",
    "    end\n",
    "end"
   ],
   "metadata": {},
   "execution_count": null
  },
  {
   "cell_type": "markdown",
   "source": [
    "Well, that looks like... a fluid! In 2D, the eddies will eventually just\n",
    "fade and merge in the absence of forcing. We could of course add a force\n",
    "also."
   ],
   "metadata": {}
  },
  {
   "cell_type": "markdown",
   "source": [
    "## Filtering and large eddy simulation (LES)\n",
    "\n",
    "We now assume that a resolution $K_\\text{DNS}$ is sufficient to resolve the\n",
    "smallest structures of the flow. The resulting solution will be denoted\n",
    "$\\hat{u}(k, t)$, resulting from _direct numerical simulation_ (DNS). Since\n",
    "this resolution is intractable, we will instead do _Large Eddy Simulation_\n",
    "(LES), at a much coarser resolution. The goal of our LES simulation is that\n",
    "the obtained solution $\\bar{\\hat{v}}$ is similar to the \"filtered DNS\"\n",
    "solution $\\bar{\\hat{u}}(k) = \\phi(k) \\hat{u}(k)$. We here define it using a\n",
    "spectral cut-off filter, where $\\bar{\\hat{u}}(k) = \\hat{u}(k)$ for $k \\in\n",
    "\\{-K_\\text{LES}, \\dots, K_\\text{LES} - 1 \\}$ with $K_\\text{LES} <\n",
    "K_\\text{DNS}$.\n",
    "\n",
    "The filtered solution $\\bar{\\hat{u}}$ is governed by the equations\n",
    "\n",
    "$$\n",
    "\\frac{\\mathrm{d} \\bar{\\hat{u}}}{\\mathrm{d} t} = \\bar{P} \\left(\n",
    "\\bar{\\hat{F}}(\\bar{\\hat{u}}) + c(\\hat{u}, \\bar{\\hat{u}}) \\right),\n",
    "$$\n",
    "\n",
    "where $\\bar{P}$ and $\\bar{\\hat{F}}$ are the coarse-resolution version of $P$\n",
    "and $\\hat{F}$, and $c = \\overline{\\hat{Q}(\\hat{u})} -\n",
    "\\bar{\\hat{Q}}(\\bar{\\hat{u}})$ is the commutator error (only present in the\n",
    "quadratic term for spectral filters). This commutator error is predicted\n",
    "using a closure model $m$ with parameters $\\theta$. The resulting closed\n",
    "system produces a predicted velocity $\\bar{\\hat{v}}$:\n",
    "\n",
    "$$\n",
    "\\frac{\\mathrm{d} \\bar{\\hat{v}}}{\\mathrm{d} t} = \\bar{P} \\left(\n",
    "\\bar{\\hat{F}}(\\bar{\\hat{v}}) + m(\\bar{\\hat{v}}, \\theta) \\right).\n",
    "$$"
   ],
   "metadata": {}
  },
  {
   "cell_type": "markdown",
   "source": [
    "### Model architecture\n",
    "\n",
    "We are free to choose the model architecture $m$."
   ],
   "metadata": {}
  },
  {
   "cell_type": "markdown",
   "source": [
    "#### Fourier neural operator architecture\n",
    "\n",
    "Now let's implement the Fourier Neural Operator (FNO) [^3].\n",
    "A Fourier layer $u \\mapsto w$ is given by the following expression:\n",
    "\n",
    "$$\n",
    "w(x) = \\sigma \\left( z(x) + W u(x) \\right)\n",
    "$$\n",
    "\n",
    "where $\\hat{z}(k) = R(k) \\hat{u}(k)$ for some weight matrix collection\n",
    "$R(k) \\in \\mathbb{C}^{n_\\text{out} \\times n_\\text{in}}$. The important\n",
    "part is the following choice: $R(k) = 0$ for $\\| k \\| > k_\\text{max}$\n",
    "for some $k_\\text{max}$. This truncation makes the FNO applicable to\n",
    "any discretization as long as $K > k_\\text{max}$, and the same parameters\n",
    "may be reused.\n",
    "\n",
    "The deep learning framework [Lux](https://lux.csail.mit.edu/) let's us define\n",
    "our own layer types. Everything should be explicit (\"functional\n",
    "programming\"), including random number generation and state modification. The\n",
    "weights are stored in a vector outside the layer, while the layer itself\n",
    "contains information for construction the network."
   ],
   "metadata": {}
  },
  {
   "outputs": [],
   "cell_type": "code",
   "source": [
    "struct FourierLayer{A,F} <: Lux.AbstractExplicitLayer\n",
    "    kmax::Int\n",
    "    cin::Int\n",
    "    cout::Int\n",
    "    σ::A\n",
    "    init_weight::F\n",
    "end\n",
    "\n",
    "FourierLayer(kmax, ch::Pair{Int,Int}; σ = identity, init_weight = glorot_uniform) =\n",
    "    FourierLayer(kmax, first(ch), last(ch), σ, init_weight)"
   ],
   "metadata": {},
   "execution_count": null
  },
  {
   "cell_type": "markdown",
   "source": [
    "We also need to specify how to initialize the parameters and states. The\n",
    "Fourier layer does not have any hidden states (RNGs) that are modified."
   ],
   "metadata": {}
  },
  {
   "outputs": [],
   "cell_type": "code",
   "source": [
    "Lux.initialparameters(rng::AbstractRNG, (; kmax, cin, cout, init_weight)::FourierLayer) = (;\n",
    "    spatial_weight = init_weight(rng, cout, cin),\n",
    "    spectral_weights = init_weight(rng, kmax + 1, kmax + 1, cout, cin, 2),\n",
    ")\n",
    "Lux.initialstates(::AbstractRNG, ::FourierLayer) = (;)\n",
    "Lux.parameterlength((; kmax, cin, cout)::FourierLayer) =\n",
    "    cout * cin + (kmax + 1)^2 * 2 * cout * cin\n",
    "Lux.statelength(::FourierLayer) = 0"
   ],
   "metadata": {},
   "execution_count": null
  },
  {
   "cell_type": "markdown",
   "source": [
    "We now define how to pass inputs through Fourier layer, assuming the\n",
    "following:\n",
    "\n",
    "- Input size: `(N, N, cin, nsample)`\n",
    "- Output size: `(N, N, cout, nsample)`"
   ],
   "metadata": {}
  },
  {
   "outputs": [],
   "cell_type": "code",
   "source": [
    "function ((; kmax, cout, cin, σ)::FourierLayer)(x, params, state)\n",
    "    N = size(x, 1)\n",
    "\n",
    "    # Destructure params\n",
    "    # The real and imaginary parts of R are stored in two separate channels\n",
    "    W = params.spatial_weight\n",
    "    W = reshape(W, 1, 1, cout, cin)\n",
    "    R = params.spectral_weights\n",
    "    R = selectdim(R, 5, 1) .+ im .* selectdim(R, 5, 2)\n",
    "\n",
    "    # Spatial part (applied point-wise)\n",
    "\n",
    "    y = reshape(x, N, N, 1, cin, :)\n",
    "    y = sum(W .* y; dims = 4)\n",
    "    y = reshape(y, N, N, cout, :)\n",
    "\n",
    "    # Spectral part (applied mode-wise)\n",
    "    #\n",
    "    # Steps:\n",
    "    #\n",
    "    # - go to complex-valued spectral space\n",
    "    # - chop off high wavenumbers\n",
    "    # - multiply with weights mode-wise\n",
    "    # - pad with zeros to restore original shape\n",
    "    # - go back to real valued spatial representation\n",
    "    ikeep = (1:kmax+1, 1:kmax+1)\n",
    "    nkeep = (kmax + 1, kmax + 1)\n",
    "    dims = (1, 2)\n",
    "    z = fft(x, dims)\n",
    "    z = z[ikeep..., :, :]\n",
    "    z = reshape(z, nkeep..., 1, cin, :)\n",
    "    z = sum(R .* z; dims = 4)\n",
    "    z = reshape(z, nkeep..., cout, :)\n",
    "    z = pad_zeros(z, (0, N - kmax - 1, 0, N - kmax - 1); dims)\n",
    "    z = real.(ifft(z, dims))\n",
    "\n",
    "    # Outer layer: Activation over combined spatial and spectral parts\n",
    "    # Note: Even though high wavenumbers are chopped off in `z` and may\n",
    "    # possibly not be present in the input at all, `σ` creates new high\n",
    "    # wavenumbers. High wavenumber functions may thus be represented using a\n",
    "    # sequence of Fourier layers. In this case, the `y`s are the only place\n",
    "    # where information contained in high input wavenumbers survive in a\n",
    "    # Fourier layer.\n",
    "    v = σ.(y .+ z)\n",
    "\n",
    "    # Fourier layer does not modify state\n",
    "    v, state\n",
    "end"
   ],
   "metadata": {},
   "execution_count": null
  },
  {
   "cell_type": "markdown",
   "source": [
    "We will use four Fourier layers, with a final dense layer.\n",
    "Since the closure is applied in spectral space, we start and end there."
   ],
   "metadata": {}
  },
  {
   "outputs": [],
   "cell_type": "code",
   "source": [
    "# Number of channels\n",
    "ch_fno = [2, 5, 5, 5, 2]\n",
    "\n",
    "# Cut-off wavenumbers\n",
    "kmax_fno = [8, 8, 8, 8]\n",
    "\n",
    "# Fourier layer activations\n",
    "σ_fno = [gelu, gelu, gelu, identity]\n",
    "\n",
    "# Model\n",
    "_fno = Chain(\n",
    "    # Go to physical space\n",
    "    u -> real.(ifft(u, (1, 2))),\n",
    "\n",
    "    # Some Fourier layers\n",
    "    (\n",
    "        FourierLayer(kmax_fno[i], ch_fno[i] => ch_fno[i+1]; σ = σ_fno[i]) for\n",
    "        i ∈ eachindex(σ_fno)\n",
    "    )...,\n",
    "\n",
    "    # Put channels in first dimension\n",
    "    u -> permutedims(u, (3, 1, 2, 4)),\n",
    "\n",
    "    # Compress with a final dense layer\n",
    "    Dense(ch_fno[end] => 2 * ch_fno[end], gelu),\n",
    "    Dense(2 * ch_fno[end] => 2; use_bias = false),\n",
    "\n",
    "    # Put channels back after spatial dimensions\n",
    "    u -> permutedims(u, (2, 3, 1, 4)),\n",
    "\n",
    "    # Go to spectral space\n",
    "    u -> fft(u, (1, 2)),\n",
    ")"
   ],
   "metadata": {},
   "execution_count": null
  },
  {
   "cell_type": "markdown",
   "source": [
    "Create parameter vector and empty state"
   ],
   "metadata": {}
  },
  {
   "outputs": [],
   "cell_type": "code",
   "source": [
    "θ_fno, state_fno = Lux.setup(rng, _fno)\n",
    "θ_fno = gpu_device()(ComponentArray(θ_fno))\n",
    "length(θ_fno)"
   ],
   "metadata": {},
   "execution_count": null
  },
  {
   "outputs": [],
   "cell_type": "code",
   "source": [
    "fno(v, θ) = first(_fno(v, θ, state_fno))"
   ],
   "metadata": {},
   "execution_count": null
  },
  {
   "cell_type": "markdown",
   "source": [
    "#### Convolutional neural network\n",
    "\n",
    "Alternatively, we may use a CNN closure model. There should be fewer\n",
    "parameters."
   ],
   "metadata": {}
  },
  {
   "outputs": [],
   "cell_type": "code",
   "source": [
    "# Radius\n",
    "r_cnn = [2, 2, 2, 2]\n",
    "\n",
    "# Channels\n",
    "ch_cnn = [2, 8, 8, 8, 2]\n",
    "\n",
    "# Activations\n",
    "σ_cnn = [leakyrelu, leakyrelu, leakyrelu, identity]\n",
    "\n",
    "# Bias\n",
    "b_cnn = [true, true, true, false]\n",
    "\n",
    "_cnn = Chain(\n",
    "    # Go to physical space\n",
    "    u -> real.(ifft(u, (1, 2))),\n",
    "\n",
    "    # Add padding so that output has same shape as commutator error\n",
    "    u -> pad_circular(u, sum(r_cnn)),\n",
    "\n",
    "    # Some convolutional layers\n",
    "    (\n",
    "        Conv(\n",
    "            (2 * r_cnn[i] + 1, 2 * r_cnn[i] + 1),\n",
    "            ch_cnn[i] => ch_cnn[i+1],\n",
    "            σ_cnn[i];\n",
    "            use_bias = b_cnn[i],\n",
    "        ) for i ∈ eachindex(r_cnn)\n",
    "    )...,\n",
    "\n",
    "    # Go to spectral space\n",
    "    u -> fft(u, (1, 2)),\n",
    ")"
   ],
   "metadata": {},
   "execution_count": null
  },
  {
   "cell_type": "markdown",
   "source": [
    "Create parameter vector and empty state"
   ],
   "metadata": {}
  },
  {
   "outputs": [],
   "cell_type": "code",
   "source": [
    "θ_cnn, state_cnn = Lux.setup(rng, _cnn)\n",
    "θ_cnn = gpu_device()(ComponentArray(θ_cnn))\n",
    "length(θ_cnn)"
   ],
   "metadata": {},
   "execution_count": null
  },
  {
   "outputs": [],
   "cell_type": "code",
   "source": [
    "cnn(v, θ) = first(_cnn(v, θ, state_cnn))"
   ],
   "metadata": {},
   "execution_count": null
  },
  {
   "cell_type": "markdown",
   "source": [
    "### Choosing model parameters: loss function\n",
    "\n",
    "Ideally, we want LES to produce the filtered DNS velocity $\\bar{\\hat{u}}$. We\n",
    "can thus minimize\n",
    "\n",
    "$$\n",
    "L(\\theta) = \\| \\bar{\\hat{v}}_\\theta - \\bar{\\hat{u}} \\|^2.\n",
    "$$\n",
    "\n",
    "Alternatively, we can minimize the simpler loss function\n",
    "\n",
    "$$\n",
    "L(\\theta) = \\| m(\\bar{\\hat{u}}, \\theta) - c(\\hat{u}, \\bar{\\hat{u}}) \\|^2.\n",
    "$$\n",
    "\n",
    "This data-driven minimization will give us $\\theta$.\n",
    "\n",
    "Random a priori loss function for stochastic gradient descent"
   ],
   "metadata": {}
  },
  {
   "outputs": [],
   "cell_type": "code",
   "source": [
    "mean_squared_error(f, x, y, θ; λ = 1.0f-4) =\n",
    "    sum(abs2, f(x, θ) - y) / sum(abs2, y) + λ * sum(abs2, θ) / length(θ)\n",
    "\n",
    "function create_randloss(f, x, y; nuse = size(x, 2))\n",
    "    d = ndims(x)\n",
    "    nsample = size(x, d)\n",
    "    function randloss(θ)\n",
    "        i = Zygote.@ignore sort(shuffle(1:nsample)[1:nuse])\n",
    "        xuse = Zygote.@ignore ArrayType(selectdim(x, d, i))\n",
    "        yuse = Zygote.@ignore ArrayType(selectdim(y, d, i))\n",
    "        mean_squared_error(f, xuse, yuse, θ)\n",
    "    end\n",
    "end"
   ],
   "metadata": {},
   "execution_count": null
  },
  {
   "cell_type": "markdown",
   "source": [
    "Random trajectory (a posteriori) loss function"
   ],
   "metadata": {}
  },
  {
   "outputs": [],
   "cell_type": "code",
   "source": [
    "function trajectory_loss(ubar, θ; params, dt = 1.0f-3)\n",
    "    nt = size(ubar, 4)\n",
    "    loss = 0.0f0\n",
    "    v = ubar[:, :, :, 1]\n",
    "    for i = 2:nt\n",
    "        v = step_rk4(v, (; params..., θ), dt)\n",
    "        u = ubar[:, :, :, i]\n",
    "        loss += sum(abs2, v - u) / sum(abs2, u)\n",
    "    end\n",
    "    loss\n",
    "end\n",
    "\n",
    "function create_randloss_trajectory(ubar; params, dt, nunroll = 10)\n",
    "    d = ndims(ubar)\n",
    "    nt = size(ubar, d)\n",
    "    function randloss(θ)\n",
    "        istart = Zygote.@ignore rand(1:nt-nunroll)\n",
    "        trajectory = Zygote.@ignore ArrayType(selectdim(ubar, d, istart:istart+nunroll))\n",
    "        trajectory_loss(trajectory, θ; params, dt)\n",
    "    end\n",
    "end"
   ],
   "metadata": {},
   "execution_count": null
  },
  {
   "cell_type": "markdown",
   "source": [
    "### Data generation\n",
    "\n",
    "Create some filtered DNS data (one initial condition only)"
   ],
   "metadata": {}
  },
  {
   "outputs": [],
   "cell_type": "code",
   "source": [
    "nu = 5.0f-4\n",
    "params_les = create_params(64; nu)\n",
    "params_dns = create_params(128; nu)\n",
    "\n",
    "# Initial conditions\n",
    "u = random_field(params_dns)\n",
    "\n",
    "# Let's do some time stepping.\n",
    "\n",
    "t = 0.0f0\n",
    "dt = 2.0f-4\n",
    "nburn = 500\n",
    "nt = 1000\n",
    "\n",
    "# Filtered snapshots\n",
    "v = zeros(Complex{Float32}, params_les.N, params_les.N, 2, nt + 1)\n",
    "\n",
    "# Commutator errors\n",
    "c = zeros(Complex{Float32}, params_les.N, params_les.N, 2, nt + 1)\n",
    "\n",
    "# Chop off frequencies and multiply with scaling factor\n",
    "spectral_cutoff(u, K) = (2K)^2 / (size(u, 1) * size(u, 2)) * [\n",
    "    u[1:K, 1:K, :] u[1:K, end-K+1:end, :]\n",
    "    u[end-K+1:end, 1:K, :] u[end-K+1:end, end-K+1:end, :]\n",
    "]\n",
    "\n",
    "anim = Animation()\n",
    "for i = 1:nburn\n",
    "    u = step_rk4(u, params_dns, dt)\n",
    "end\n",
    "for i = 1:nt+1\n",
    "    if i > 1\n",
    "        t += dt\n",
    "        u = step_rk4(u, params_dns, dt)\n",
    "    end\n",
    "    ubar = spectral_cutoff(u, params_les.K)\n",
    "    v[:, :, :, i] = Array(ubar)\n",
    "    c[:, :, :, i] =\n",
    "        Array(spectral_cutoff(F(u, params_dns), params_les.K) - F(ubar, params_les))\n",
    "    if i % 10 == 0\n",
    "        # println(i)\n",
    "        ω = Array(vorticity(u, params_dns))\n",
    "        title = @sprintf(\"Vorticity, t = %.3f\", t)\n",
    "        fig = heatmap(ω'; xlabel = \"x\", ylabel = \"y\", title)\n",
    "        frame(anim, fig)\n",
    "    end\n",
    "end\n",
    "gif(anim)"
   ],
   "metadata": {},
   "execution_count": null
  },
  {
   "cell_type": "markdown",
   "source": [
    "Choose closure model"
   ],
   "metadata": {}
  },
  {
   "outputs": [],
   "cell_type": "code",
   "source": [
    "m, θ₀, label = cnn, θ_cnn, \"CNN\"\n",
    "# m, θ₀, label = fno, θ_fno, \"FNO\""
   ],
   "metadata": {},
   "execution_count": null
  },
  {
   "cell_type": "markdown",
   "source": [
    "Choose loss function"
   ],
   "metadata": {}
  },
  {
   "outputs": [],
   "cell_type": "code",
   "source": [
    "randloss = create_randloss(m, v, c; nuse = 50)\n",
    "# randloss = create_randloss_trajectory(v; params = (; params_les..., m), dt = 1f-3, nunroll = 10)"
   ],
   "metadata": {},
   "execution_count": null
  },
  {
   "cell_type": "markdown",
   "source": [
    "Model warm-up: trigger compilation and get indication of complexity"
   ],
   "metadata": {}
  },
  {
   "outputs": [],
   "cell_type": "code",
   "source": [
    "randloss(θ₀)\n",
    "gradient(randloss, θ₀);\n",
    "@time randloss(θ₀);\n",
    "@time gradient(randloss, θ₀);"
   ],
   "metadata": {},
   "execution_count": null
  },
  {
   "cell_type": "markdown",
   "source": [
    "### Training\n",
    "\n",
    "We will monitor the error along the way."
   ],
   "metadata": {}
  },
  {
   "outputs": [],
   "cell_type": "code",
   "source": [
    "θ = θ₀\n",
    "v_test, c_test = ArrayType(v[:, :, :, end:end]), ArrayType(c[:, :, :, end:end])\n",
    "opt = Optimisers.setup(Adam(1.0f-4), θ)\n",
    "ncallback = 20\n",
    "ntrain = 1000\n",
    "ihist = Int[]\n",
    "ehist = Float32[]\n",
    "ishift = 0"
   ],
   "metadata": {},
   "execution_count": null
  },
  {
   "cell_type": "markdown",
   "source": [
    "The cell below can be repeated"
   ],
   "metadata": {}
  },
  {
   "outputs": [],
   "cell_type": "code",
   "source": [
    "for i = 1:ntrain\n",
    "    g = first(gradient(randloss, θ))\n",
    "    opt, θ = Optimisers.update(opt, θ, g)\n",
    "    if i % ncallback == 0\n",
    "        e = norm(m(v_test, θ) - c_test) / norm(c_test)\n",
    "        printl(\"Iteration $i,\\t\\terror $e\")\n",
    "        push!(ihist, ishift + i)\n",
    "        push!(ehist, e)\n",
    "        fig = plot(; xlabel = \"Iterations\", title = \"Relative a-priori error\")\n",
    "        hline!(fig, [1.0f0]; linestyle = :dash, label = \"No model\")\n",
    "        plot!(fig, ihist, ehist; label)\n",
    "        display(fig)\n",
    "    end\n",
    "end\n",
    "ishift += ntrain"
   ],
   "metadata": {},
   "execution_count": null
  },
  {
   "outputs": [],
   "cell_type": "code",
   "source": [
    "GC.gc()\n",
    "CUDA.reclaim()"
   ],
   "metadata": {},
   "execution_count": null
  },
  {
   "cell_type": "markdown",
   "source": [
    "Once trained, we can  see the closure model in action."
   ],
   "metadata": {}
  },
  {
   "outputs": [],
   "cell_type": "code",
   "source": [
    "u₀ = ArrayType(v[:, :, :, 1:1])\n",
    "v_nomodel = u₀\n",
    "v_model = u₀\n",
    "anim = Animation()\n",
    "for i = 1:nt+1\n",
    "    global v_nomodel, v_model\n",
    "    if i > 1\n",
    "        v_nomodel = step_rk4(v_nomodel, params_les, dt)\n",
    "        v_model = step_rk4(v_model, (; params_les..., m, θ), dt)\n",
    "    end\n",
    "    if i % 30 == 0\n",
    "        t = (i - 1) * dt\n",
    "        (; N) = params_les\n",
    "        ω = reshape(Array(vorticity(ArrayType(v[:, :, :, i]), params_les)), N, N)\n",
    "        ω_nomodel = reshape(Array(vorticity(v_nomodel, params_les)), N, N)\n",
    "        ω_model = reshape(Array(vorticity(v_model, params_les)), N, N)\n",
    "        plot_title = @sprintf(\"Vorticity, t = %.3f\", t)\n",
    "        fig = plot(\n",
    "            heatmap(ω'; colorbar = false, xlabel = \"x\", ylabel = \"y\", title = \"Target\"),\n",
    "            heatmap(ω_nomodel'; colorbar = false, xlabel = \"x\", title = \"No model\"),\n",
    "            heatmap(ω_model'; colorbar = false, xlabel = \"x\", title = label);\n",
    "            plot_title,\n",
    "            layout = (1, 3)\n",
    "        )\n",
    "        frame(anim, fig)\n",
    "    end\n",
    "end\n",
    "gif(anim)"
   ],
   "metadata": {},
   "execution_count": null
  },
  {
   "cell_type": "markdown",
   "source": [
    "# See also\n",
    "\n",
    "- <https://github.com/FourierFlows/FourierFlows.jl>\n",
    "- <https://github.com/agdestein/IncompressibleNavierStokes.jl>\n",
    "- <https://github.com/SciML>\n",
    "\n",
    "[^1]: S. A. Orszag. _On the elimination of aliasing in finite-difference\n",
    "      schemes by filtering high-wavenumber components._ Journal of the\n",
    "      Atmospheric Sciences 28, 1074-107 (1971).\n",
    "[^2]: <https://en.wikipedia.org/wiki/Fast_Fourier_transform>\n",
    "[^3]: Z. Li, N. Kovachki, K. Azizzadenesheli, B. Liu, K. Bhattacharya, A. Stuart, and\n",
    "      A. Anandkumar.  _Fourier neural operator for parametric partial differential\n",
    "      equations._ arXiv:[2010.08895](https://arxiv.org/abs/2010.08895), 2021."
   ],
   "metadata": {}
  },
  {
   "cell_type": "markdown",
   "source": [
    "---\n",
    "\n",
    "*This notebook was generated using [Literate.jl](https://github.com/fredrikekre/Literate.jl).*"
   ],
   "metadata": {}
  }
 ],
 "nbformat_minor": 3,
 "metadata": {
  "language_info": {
   "file_extension": ".jl",
   "mimetype": "application/julia",
   "name": "julia",
   "version": "1.10.5"
  },
  "kernelspec": {
   "name": "julia-1.10",
   "display_name": "Julia 1.10.5",
   "language": "julia"
  }
 },
 "nbformat": 4
}
